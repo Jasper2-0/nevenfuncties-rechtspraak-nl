{
 "cells": [
  {
   "cell_type": "code",
   "execution_count": 30,
   "metadata": {},
   "outputs": [],
   "source": [
    "import glob\n",
    "import json\n",
    "import pandas as pd"
   ]
  },
  {
   "cell_type": "code",
   "execution_count": 46,
   "metadata": {},
   "outputs": [],
   "source": [
    "files = glob.glob(\"zoekinstantie/*.json\")\n",
    "files.sort()"
   ]
  },
  {
   "cell_type": "code",
   "execution_count": 48,
   "metadata": {},
   "outputs": [],
   "source": [
    "l = []\n",
    "for f in files:\n",
    "    with open(f,\"r\") as json_file:\n",
    "        j = json.load(json_file)\n",
    "        for item in j['result']['model']['groupedItems']:\n",
    "            d = {}\n",
    "            d['persoonId'] = item['persoonId']\n",
    "            d['toonnaam'] = item['toonnaam']\n",
    "            d['url'] = haalOpUrl+ d['persoonId']\n",
    "            l.append(d)\n",
    "df = pd.DataFrame(l)"
   ]
  },
  {
   "cell_type": "code",
   "execution_count": 50,
   "metadata": {},
   "outputs": [],
   "source": [
    "df.to_csv('urls.csv',index=False)"
   ]
  }
 ],
 "metadata": {
  "kernelspec": {
   "display_name": "Python 3",
   "language": "python",
   "name": "python3"
  },
  "language_info": {
   "codemirror_mode": {
    "name": "ipython",
    "version": 3
   },
   "file_extension": ".py",
   "mimetype": "text/x-python",
   "name": "python",
   "nbconvert_exporter": "python",
   "pygments_lexer": "ipython3",
   "version": "3.7.1"
  }
 },
 "nbformat": 4,
 "nbformat_minor": 4
}
