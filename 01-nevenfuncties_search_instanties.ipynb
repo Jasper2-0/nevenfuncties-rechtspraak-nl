{
 "cells": [
  {
   "cell_type": "markdown",
   "metadata": {},
   "source": [
    "# Nevenfuncties ophalen bij Rechtspraak.nl"
   ]
  },
  {
   "cell_type": "code",
   "execution_count": 1,
   "metadata": {},
   "outputs": [],
   "source": [
    "import json\n",
    "\n",
    "import pandas as pd\n",
    "import requests as req\n",
    "\n",
    "from time import sleep\n",
    "\n",
    "from ipywidgets import Text\n",
    "from ipywidgets import IntProgress\n",
    "from IPython.display import display\n",
    "\n",
    "from lxml import html"
   ]
  },
  {
   "cell_type": "code",
   "execution_count": 20,
   "metadata": {},
   "outputs": [],
   "source": [
    "crawl_delay = 0.25;"
   ]
  },
  {
   "cell_type": "markdown",
   "metadata": {},
   "source": [
    "Er zijn een paar URLS die we nodig hebben voor deze klus:"
   ]
  },
  {
   "cell_type": "code",
   "execution_count": 2,
   "metadata": {},
   "outputs": [],
   "source": [
    "instanties = 'https://namenlijst.rechtspraak.nl/Services/ConfigService/getInstanties'\n",
    "index = \"https://namenlijst.rechtspraak.nl/#!/zoeken/index\"\n",
    "search = \"https://namenlijst.rechtspraak.nl/Services/WebNamenlijstService/Zoek\""
   ]
  },
  {
   "cell_type": "markdown",
   "metadata": {},
   "source": [
    "Omdat de site met sessies werkt, kunenn we geen enkele requests doen, maar moeten we met een sessie werken. Eerst een sessie maken dus!"
   ]
  },
  {
   "cell_type": "code",
   "execution_count": 3,
   "metadata": {},
   "outputs": [],
   "source": [
    "client = req.session() # a session to take care of CSRF cookies"
   ]
  },
  {
   "cell_type": "markdown",
   "metadata": {},
   "source": [
    "Vervolgens maar eens een lijst van de instanties ophalen"
   ]
  },
  {
   "cell_type": "code",
   "execution_count": 4,
   "metadata": {},
   "outputs": [],
   "source": [
    "d = client.get(instanties).json()"
   ]
  },
  {
   "cell_type": "markdown",
   "metadata": {},
   "source": [
    "Krijgen we een mooie lijst terug van waar we naar kunnen zoeken..."
   ]
  },
  {
   "cell_type": "code",
   "execution_count": 50,
   "metadata": {},
   "outputs": [
    {
     "data": {
      "text/plain": [
       "{'code': 'AR0051', 'naam': 'Overijssel'}"
      ]
     },
     "execution_count": 50,
     "metadata": {},
     "output_type": "execute_result"
    }
   ],
   "source": [
    "d['instanties'][0]['naam'] # hoge raad\n",
    "d['instanties'][1]['naam'] # Centrale Raad van Beroep\n",
    "d['instanties'][2]['naam'] # College van Beroep voor het bedrijfsleven\n",
    "d['instanties'][3]['naam'] # gerechtshoven\n",
    "d['instanties'][3]['locaties'] # lijst van locaties van gerechtshoven\n",
    "d['instanties'][3]['locaties'][0] # {'code': 'RS0055', 'naam': 'Amsterdam'}\n",
    "d['instanties'][3]['locaties'][1] # {'code': 'RS0056', 'naam': 'Arnhem-Leeuwarden'}\n",
    "d['instanties'][3]['locaties'][2] # {'code': 'RS0057', 'naam': 'Den Haag'}\n",
    "d['instanties'][3]['locaties'][2] # {'code': 'RS0058', 'naam': \"'s-Hertogenbosch\"}\n",
    "d['instanties'][4]['naam'] # 'Rechtbanken'\n",
    "d['instanties'][4]['locaties'] # lijst van locaties van rechtbanken\n",
    "d['instanties'][4]['locaties'][0] # {'code': 'AR0040', 'naam': 'Amsterdam'}\n",
    "d['instanties'][4]['locaties'][1] # {'code': 'AR0041', 'naam': 'Noord-Holland'}\n",
    "d['instanties'][4]['locaties'][2]#{'code': 'AR0042', 'naam': 'Midden-Nederland'}\n",
    "d['instanties'][4]['locaties'][3]#{'code': 'AR0043', 'naam': 'Noord-Nederland'}\n",
    "d['instanties'][4]['locaties'][4]#{'code': 'AR0045', 'naam': 'Den Haag'}\n",
    "d['instanties'][4]['locaties'][5]#{'code': 'AR0046', 'naam': 'Rotterdam'}\n",
    "d['instanties'][4]['locaties'][6]#{'code': 'AR0047', 'naam': 'Limburg'}\n",
    "d['instanties'][4]['locaties'][7]#{'code': 'AR0048', 'naam': 'Oost-Brabant'}\n",
    "d['instanties'][4]['locaties'][8]#{'code': 'AR0049', 'naam': 'Zeeland-West-Brabant'}\n",
    "d['instanties'][4]['locaties'][9]#{'code': 'AR0050', 'naam': 'Gelderland'}\n",
    "d['instanties'][4]['locaties'][10]# {'code': 'AR0051', 'naam': 'Overijssel'}"
   ]
  },
  {
   "cell_type": "markdown",
   "metadata": {},
   "source": [
    "om die instanties af te zoeken wil de site een \"model\", Hieronder zie je hoe zo'n request eruit ziet voor de verschillende typen instanties."
   ]
  },
  {
   "cell_type": "code",
   "execution_count": null,
   "metadata": {},
   "outputs": [],
   "source": [
    "# JSON request voor overige instellingen: {\"model\":\"{\\\"instantieCode\\\":[],\\\"overige_instantie\\\":[\\\"Centrale Raad van Beroep\\\"],\\\"naam\\\":\\\"\\\",\\\"functie\\\":\\\"\\\"}\"}\n",
    "# JSON request voor gerechtshoven: {\"model\":\"{\\\"instantieCode\\\":[\\\"RS0055\\\"],\\\"overige_instantie\\\":[],\\\"naam\\\":\\\"\\\",\\\"functie\\\":\\\"\\\"}\"}\n",
    "# JSON request voor rechtbanken: {\"model\":\"{\\\"instantieCode\\\":[\\\"AR0040\\\"],\\\"overige_instantie\\\":[],\\\"naam\\\":\\\"\\\",\\\"functie\\\":\\\"\\\"}\"}"
   ]
  },
  {
   "cell_type": "markdown",
   "metadata": {},
   "source": [
    "laten we hieronder maar even een lijst maken van alle mogelijke modellen op basis van de informatie die we net over de instanties gekregen hebben."
   ]
  },
  {
   "cell_type": "code",
   "execution_count": 12,
   "metadata": {},
   "outputs": [
    {
     "data": {
      "text/plain": [
       "'RS0055'"
      ]
     },
     "execution_count": 12,
     "metadata": {},
     "output_type": "execute_result"
    }
   ],
   "source": [
    "d['instanties'][3]['locaties'][0]['code']"
   ]
  },
  {
   "cell_type": "code",
   "execution_count": 17,
   "metadata": {},
   "outputs": [],
   "source": [
    "l = []\n",
    "\n",
    "for i in range(len(d['instanties'])):\n",
    "   \n",
    "    if i < 3:\n",
    "        l.append({\"model\":\"{\\\"instantieCode\\\":[],\\\"overige_instantie\\\":[\\\"\"+d['instanties'][i]['naam'] +\"\\\"],\\\"naam\\\":\\\"\\\",\\\"functie\\\":\\\"\\\"}\"})\n",
    "    else:\n",
    "        for j in range(len(d['instanties'][i]['locaties'])):\n",
    "            l.append({\"model\":\"{\\\"instantieCode\\\":[\\\"\"+d['instanties'][i]['locaties'][j]['code']+\"\\\"],\\\"overige_instantie\\\":[],\\\"naam\\\":\\\"\\\",\\\"functie\\\":\\\"\\\"}\"})\n",
    "    "
   ]
  },
  {
   "cell_type": "markdown",
   "metadata": {},
   "source": [
    "ok, tijd om maar eens wat requests naar de search service te gooien... De search service werkt alleen als we een geldige sessie hebben, met een cookie en een CSRF Requesttoken die we uit de HTML moeten vissen..."
   ]
  },
  {
   "cell_type": "code",
   "execution_count": 6,
   "metadata": {},
   "outputs": [],
   "source": [
    "r = client.get(index)\n",
    "tree = html.fromstring(r.content)\n",
    "token = tree.xpath('//input[@name=\"__RequestVerificationToken\"]/@value')[0] # retrieve CSRF token from HTML"
   ]
  },
  {
   "cell_type": "markdown",
   "metadata": {},
   "source": [
    "Die token, moeten we dus zometeen weer meesturen in de headers van onze search, even bewaren voor zometeen dus..."
   ]
  },
  {
   "cell_type": "code",
   "execution_count": 7,
   "metadata": {},
   "outputs": [],
   "source": [
    "headers = {'__RequestVerificationToken':token}"
   ]
  },
  {
   "cell_type": "code",
   "execution_count": 26,
   "metadata": {},
   "outputs": [
    {
     "data": {
      "application/vnd.jupyter.widget-view+json": {
       "model_id": "d0115f169f7a46c3939ee581028c7549",
       "version_major": 2,
       "version_minor": 0
      },
      "text/plain": [
       "Text(value='default value', description='current URL:', layout=Layout(width='auto'), placeholder='https://www.…"
      ]
     },
     "metadata": {},
     "output_type": "display_data"
    },
    {
     "data": {
      "application/vnd.jupyter.widget-view+json": {
       "model_id": "463be01b03864a8cb3be5390d723d5bb",
       "version_major": 2,
       "version_minor": 0
      },
      "text/plain": [
       "IntProgress(value=0, layout=Layout(width='auto'), max=18)"
      ]
     },
     "metadata": {},
     "output_type": "display_data"
    }
   ],
   "source": [
    "max_count = len(l)-1\n",
    "\n",
    "text_out = Text(value='default value', placeholder='https://www.rechtspraak.nl', description='current URL:', disabled=False,layout={'width': 'auto'}) # instantiate the progress bar\n",
    "progress = IntProgress(min=0, max=max_count,layout={'width':'auto'}) # instantiate the progress bar\n",
    "\n",
    "display(text_out) # display the text\n",
    "display(progress) # display the bar\n",
    "\n",
    "for idx in range(len(l)):\n",
    "    request_data = l[idx]\n",
    "   \n",
    "    url = 'https://namenlijst.rechtspraak.nl/Services/WebNamenlijstService/Zoek'\n",
    "    text_out.value = url\n",
    "    progress.value = idx\n",
    "    progress.description = f'[{idx}/{max_count}]'\n",
    "\n",
    "    r = client.post(url,json=request_data, headers=headers)\n",
    "    with open(f'zoekinstantie/zoek-instantie-{idx}.json', 'wb') as f:\n",
    "            f.write(r.content)\n",
    "    \n",
    "    sleep(crawl_delay)\n",
    "    "
   ]
  }
 ],
 "metadata": {
  "kernelspec": {
   "display_name": "Python 3",
   "language": "python",
   "name": "python3"
  },
  "language_info": {
   "codemirror_mode": {
    "name": "ipython",
    "version": 3
   },
   "file_extension": ".py",
   "mimetype": "text/x-python",
   "name": "python",
   "nbconvert_exporter": "python",
   "pygments_lexer": "ipython3",
   "version": "3.7.1"
  }
 },
 "nbformat": 4,
 "nbformat_minor": 4
}
