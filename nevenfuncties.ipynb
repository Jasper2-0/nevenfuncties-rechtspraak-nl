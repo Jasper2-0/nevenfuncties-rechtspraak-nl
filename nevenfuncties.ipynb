{
 "cells": [
  {
   "cell_type": "markdown",
   "metadata": {},
   "source": [
    "# Nevenfuncties ophalen bij Rechtspraak.nl"
   ]
  },
  {
   "cell_type": "code",
   "execution_count": 30,
   "metadata": {},
   "outputs": [],
   "source": [
    "import json\n",
    "\n",
    "import pandas as pd\n",
    "import requests as req\n",
    "\n",
    "from time import sleep\n",
    "\n",
    "from ipywidgets import Text\n",
    "from ipywidgets import IntProgress\n",
    "from IPython.display import display"
   ]
  },
  {
   "cell_type": "code",
   "execution_count": 31,
   "metadata": {},
   "outputs": [],
   "source": [
    "crawl_delay = 1; #we're nice like that."
   ]
  },
  {
   "cell_type": "code",
   "execution_count": 32,
   "metadata": {},
   "outputs": [],
   "source": [
    "df = pd.read_csv('urls.csv',header=0)"
   ]
  },
  {
   "cell_type": "code",
   "execution_count": 33,
   "metadata": {},
   "outputs": [],
   "source": [
    "urls = df['urls'].tolist()"
   ]
  },
  {
   "cell_type": "code",
   "execution_count": 37,
   "metadata": {},
   "outputs": [
    {
     "data": {
      "application/vnd.jupyter.widget-view+json": {
       "model_id": "85cd67402d52450487738fd4ef44a840",
       "version_major": 2,
       "version_minor": 0
      },
      "text/plain": [
       "Text(value='default value', description='current URL:', layout=Layout(width='auto'), placeholder='https://www.…"
      ]
     },
     "metadata": {},
     "output_type": "display_data"
    },
    {
     "data": {
      "application/vnd.jupyter.widget-view+json": {
       "model_id": "792b89d5a8fa42948487989b1c2213d8",
       "version_major": 2,
       "version_minor": 0
      },
      "text/plain": [
       "IntProgress(value=0, layout=Layout(width='auto'), max=10)"
      ]
     },
     "metadata": {},
     "output_type": "display_data"
    }
   ],
   "source": [
    "max_count = len(urls)\n",
    "\n",
    "text_out = Text(value='default value', placeholder='https://www.rechtspraak.nl', description='current URL:', disabled=False,layout={'width': 'auto'}) # instantiate the progress bar\n",
    "progress = IntProgress(min=0, max=max_count,layout={'width':'auto'}) # instantiate the progress bar\n",
    "\n",
    "display(text_out) # display the text\n",
    "display(progress) # display the bar\n",
    "\n",
    "for idx in range(len(urls)):\n",
    "    url = urls[idx]\n",
    "    \n",
    "    text_out.value = url\n",
    "    progress.value = idx\n",
    "    progress.description = f'[{idx}/{max_count}]'\n",
    "    \n",
    "    try:\n",
    "        r = req.get(url)\n",
    "        r.raise_for_status()\n",
    "    \n",
    "    except req.exceptions.HTTPError as err:\n",
    "        pass # bit lazy.\n",
    "    \n",
    "    else:        \n",
    "        f_id = url.split(\"=\")[-1]\n",
    "        \n",
    "        with open(f'{f_id}-{idx}.json', 'wb') as f:\n",
    "            f.write(r.content)\n",
    "        \n",
    "    sleep(crawl_delay)\n",
    "\n",
    "\n",
    "text_out.value = 'Done!'\n",
    "progress.description = 'Done!'"
   ]
  },
  {
   "cell_type": "code",
   "execution_count": 11,
   "metadata": {},
   "outputs": [
    {
     "data": {
      "text/plain": [
       "b'{\"completeDateTime\":\"\\\\/Date(1600803466095+0200)\\\\/\",\"errorMessage\":null,\"model\":{\"achternaam\":\"Zanden\",\"achternaamEigen\":\"Zanden\",\"achternaamPartner\":\"\",\"beroepsgegevens\":[{\"begindatum\":\"\\\\/Date(1535752800000+0200)\\\\/\",\"functieOmschrijving\":\"Senior-gerechtsauditeur\",\"hoofdfunctie\":true,\"ingezet\":true,\"instantieOmschrijving\":\"Centrale Raad van Beroep\",\"opmerkingen\":null}],\"beroepsgegevensBuitenRM\":[],\"geenOpgaveNevenbetrekkingen\":false,\"historieBeroepsgegevens\":[{\"begindatum\":\"\\\\/Date(900885600000+0200)\\\\/\",\"einddatum\":\"\\\\/Date(1535666400000+0200)\\\\/\",\"functie\":\"Gerechtsauditeur\",\"instantie\":\"Centrale Raad van Beroep\"}],\"huidigeNevenbetrekkingen\":[],\"status\":\"Gepubliceerd\",\"toonNaam\":\"mw. mr. A.G.M. van der Zanden \",\"vervultGeenNevenbetrekkingen\":true,\"voorgaandeBetrekkingen\":[],\"voorgaandeNevenbetrekkingen\":[{\"begindatum\":\"\\\\/Date(1251756000000+0200)\\\\/\",\"bezoldigd\":\"Onbekend\",\"einddatum\":\"\\\\/Date(1522533600000+0200)\\\\/\",\"functie\":\"Voorzitter bezwarencommissie\",\"instantie\":\"Gemeente Zeist\",\"plaats\":\"Zeist\",\"soortbedrijf\":\"Onbekend\"}]},\"status\":1,\"validationMessages\":null}'"
      ]
     },
     "execution_count": 11,
     "metadata": {},
     "output_type": "execute_result"
    }
   ],
   "source": [
    "res['raw_html']"
   ]
  }
 ],
 "metadata": {
  "kernelspec": {
   "display_name": "Python 3",
   "language": "python",
   "name": "python3"
  },
  "language_info": {
   "codemirror_mode": {
    "name": "ipython",
    "version": 3
   },
   "file_extension": ".py",
   "mimetype": "text/x-python",
   "name": "python",
   "nbconvert_exporter": "python",
   "pygments_lexer": "ipython3",
   "version": "3.7.1"
  }
 },
 "nbformat": 4,
 "nbformat_minor": 4
}
