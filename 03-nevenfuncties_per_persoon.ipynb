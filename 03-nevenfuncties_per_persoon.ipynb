{
 "cells": [
  {
   "cell_type": "markdown",
   "metadata": {},
   "source": [
    "# Nevenfuncties ophalen bij Rechtspraak.nl"
   ]
  },
  {
   "cell_type": "code",
   "execution_count": 15,
   "metadata": {},
   "outputs": [],
   "source": [
    "import json\n",
    "\n",
    "import pandas as pd\n",
    "import requests as req\n",
    "\n",
    "from time import sleep\n",
    "\n",
    "from ipywidgets import Text\n",
    "from ipywidgets import IntProgress\n",
    "from IPython.display import display"
   ]
  },
  {
   "cell_type": "code",
   "execution_count": 16,
   "metadata": {},
   "outputs": [],
   "source": [
    "crawl_delay = 0.25; #we're nice like that."
   ]
  },
  {
   "cell_type": "code",
   "execution_count": 17,
   "metadata": {},
   "outputs": [],
   "source": [
    "df = pd.read_csv('urls.csv',header=0)"
   ]
  },
  {
   "cell_type": "code",
   "execution_count": 18,
   "metadata": {},
   "outputs": [],
   "source": [
    "records = df.to_dict('records')"
   ]
  },
  {
   "cell_type": "code",
   "execution_count": 20,
   "metadata": {},
   "outputs": [
    {
     "data": {
      "application/vnd.jupyter.widget-view+json": {
       "model_id": "980a74438a15410e910b9459c3268e2c",
       "version_major": 2,
       "version_minor": 0
      },
      "text/plain": [
       "Text(value='default value', description='current URL:', layout=Layout(width='auto'), placeholder='https://www.…"
      ]
     },
     "metadata": {},
     "output_type": "display_data"
    },
    {
     "data": {
      "application/vnd.jupyter.widget-view+json": {
       "model_id": "7f571b7ca417488da0e8e723eac84c2e",
       "version_major": 2,
       "version_minor": 0
      },
      "text/plain": [
       "IntProgress(value=0, layout=Layout(width='auto'), max=4391)"
      ]
     },
     "metadata": {},
     "output_type": "display_data"
    }
   ],
   "source": [
    "max_count = len(records)\n",
    "\n",
    "text_out = Text(value='default value', placeholder='https://www.rechtspraak.nl', description='current URL:', disabled=False,layout={'width': 'auto'}) # instantiate the progress bar\n",
    "progress = IntProgress(min=0, max=max_count,layout={'width':'auto'}) # instantiate the progress bar\n",
    "\n",
    "display(text_out) # display the text\n",
    "display(progress) # display the bar\n",
    "\n",
    "for idx, rec in enumerate(records,1):\n",
    "    url = rec['url']\n",
    "    persoonId = rec['persoonId']\n",
    "    naam = rec['toonnaam']\n",
    "    \n",
    "    text_out.value = naam\n",
    "    progress.value = idx\n",
    "    progress.description = f'[{idx}/{max_count}]'\n",
    "    \n",
    "    try:\n",
    "        r = req.get(url)\n",
    "        r.raise_for_status()\n",
    "    \n",
    "    except req.exceptions.HTTPError as err:\n",
    "        pass # bit lazy.\n",
    "\n",
    "    else:                \n",
    "        with open(f'persoonId/{persoonId}.json', 'wb') as f:\n",
    "            f.write(r.content)\n",
    "        \n",
    "    sleep(crawl_delay)\n",
    "\n",
    "\n",
    "text_out.value = 'Done!'\n",
    "progress.description = 'Done!'\n"
   ]
  }
 ],
 "metadata": {
  "kernelspec": {
   "display_name": "Python 3",
   "language": "python",
   "name": "python3"
  },
  "language_info": {
   "codemirror_mode": {
    "name": "ipython",
    "version": 3
   },
   "file_extension": ".py",
   "mimetype": "text/x-python",
   "name": "python",
   "nbconvert_exporter": "python",
   "pygments_lexer": "ipython3",
   "version": "3.7.1"
  }
 },
 "nbformat": 4,
 "nbformat_minor": 4
}
